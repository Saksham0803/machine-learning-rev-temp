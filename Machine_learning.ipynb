{
 "cells": [
  {
   "cell_type": "markdown",
   "metadata": {},
   "source": [
    "Importing the libraries\n"
   ]
  },
  {
   "cell_type": "code",
   "execution_count": 2,
   "metadata": {},
   "outputs": [],
   "source": [
    "import pandas as pd\n",
    "import numpy as np\n",
    "import pickle\n",
    "from sklearn.linear_model import LinearRegression\n",
    "from sklearn.model_selection import train_test_split\n",
    "from sklearn.metrics import r2_score"
   ]
  },
  {
   "cell_type": "code",
   "execution_count": 3,
   "metadata": {},
   "outputs": [],
   "source": [
    "df = pd.read_csv('IceCreamData.csv')"
   ]
  },
  {
   "cell_type": "code",
   "execution_count": 6,
   "metadata": {},
   "outputs": [
    {
     "data": {
      "text/html": [
       "<div>\n",
       "<style scoped>\n",
       "    .dataframe tbody tr th:only-of-type {\n",
       "        vertical-align: middle;\n",
       "    }\n",
       "\n",
       "    .dataframe tbody tr th {\n",
       "        vertical-align: top;\n",
       "    }\n",
       "\n",
       "    .dataframe thead th {\n",
       "        text-align: right;\n",
       "    }\n",
       "</style>\n",
       "<table border=\"1\" class=\"dataframe\">\n",
       "  <thead>\n",
       "    <tr style=\"text-align: right;\">\n",
       "      <th></th>\n",
       "      <th>Temperature</th>\n",
       "      <th>Revenue</th>\n",
       "    </tr>\n",
       "  </thead>\n",
       "  <tbody>\n",
       "    <tr>\n",
       "      <th>0</th>\n",
       "      <td>24.566884</td>\n",
       "      <td>534.799028</td>\n",
       "    </tr>\n",
       "    <tr>\n",
       "      <th>1</th>\n",
       "      <td>26.005191</td>\n",
       "      <td>625.190122</td>\n",
       "    </tr>\n",
       "    <tr>\n",
       "      <th>2</th>\n",
       "      <td>27.790554</td>\n",
       "      <td>660.632289</td>\n",
       "    </tr>\n",
       "    <tr>\n",
       "      <th>3</th>\n",
       "      <td>20.595335</td>\n",
       "      <td>487.706960</td>\n",
       "    </tr>\n",
       "    <tr>\n",
       "      <th>4</th>\n",
       "      <td>11.503498</td>\n",
       "      <td>316.240194</td>\n",
       "    </tr>\n",
       "  </tbody>\n",
       "</table>\n",
       "</div>"
      ],
      "text/plain": [
       "   Temperature     Revenue\n",
       "0    24.566884  534.799028\n",
       "1    26.005191  625.190122\n",
       "2    27.790554  660.632289\n",
       "3    20.595335  487.706960\n",
       "4    11.503498  316.240194"
      ]
     },
     "execution_count": 6,
     "metadata": {},
     "output_type": "execute_result"
    }
   ],
   "source": [
    "df.head()"
   ]
  },
  {
   "cell_type": "markdown",
   "metadata": {},
   "source": [
    "df.info()\n",
    "for information about the data"
   ]
  },
  {
   "cell_type": "code",
   "execution_count": 7,
   "metadata": {},
   "outputs": [
    {
     "name": "stdout",
     "output_type": "stream",
     "text": [
      "<class 'pandas.core.frame.DataFrame'>\n",
      "RangeIndex: 500 entries, 0 to 499\n",
      "Data columns (total 2 columns):\n",
      " #   Column       Non-Null Count  Dtype  \n",
      "---  ------       --------------  -----  \n",
      " 0   Temperature  500 non-null    float64\n",
      " 1   Revenue      500 non-null    float64\n",
      "dtypes: float64(2)\n",
      "memory usage: 7.9 KB\n"
     ]
    }
   ],
   "source": [
    "df.info()"
   ]
  },
  {
   "cell_type": "markdown",
   "metadata": {},
   "source": [
    "x = feature variable\n",
    "y = target variable"
   ]
  },
  {
   "cell_type": "code",
   "execution_count": 4,
   "metadata": {},
   "outputs": [],
   "source": [
    "x= df['Temperature']\n",
    "y= df['Revenue']"
   ]
  },
  {
   "cell_type": "markdown",
   "metadata": {},
   "source": [
    "split the data (500 entries) for training the model and to test the model"
   ]
  },
  {
   "cell_type": "code",
   "execution_count": 5,
   "metadata": {},
   "outputs": [],
   "source": [
    "x_train, x_test, y_train, y_test = train_test_split(x,y,test_size=0.2)"
   ]
  },
  {
   "cell_type": "code",
   "execution_count": 10,
   "metadata": {},
   "outputs": [
    {
     "data": {
      "text/plain": [
       "400"
      ]
     },
     "execution_count": 10,
     "metadata": {},
     "output_type": "execute_result"
    }
   ],
   "source": [
    "len(x_train)"
   ]
  },
  {
   "cell_type": "code",
   "execution_count": 6,
   "metadata": {},
   "outputs": [],
   "source": [
    "model = LinearRegression()"
   ]
  },
  {
   "cell_type": "markdown",
   "metadata": {},
   "source": [
    "target variable should be in 1 dimension\n",
    "feature variable should be in 2 dimension"
   ]
  },
  {
   "cell_type": "code",
   "execution_count": 7,
   "metadata": {},
   "outputs": [
    {
     "data": {
      "text/plain": [
       "1"
      ]
     },
     "execution_count": 7,
     "metadata": {},
     "output_type": "execute_result"
    }
   ],
   "source": [
    "y_test.ndim"
   ]
  },
  {
   "cell_type": "code",
   "execution_count": 8,
   "metadata": {},
   "outputs": [
    {
     "data": {
      "text/plain": [
       "1"
      ]
     },
     "execution_count": 8,
     "metadata": {},
     "output_type": "execute_result"
    }
   ],
   "source": [
    "x_train.ndim"
   ]
  },
  {
   "cell_type": "markdown",
   "metadata": {},
   "source": [
    "x_train is in 1 dim but should be in 2 dimension\n",
    "so, we use numpy array"
   ]
  },
  {
   "cell_type": "code",
   "execution_count": 9,
   "metadata": {},
   "outputs": [
    {
     "data": {
      "text/plain": [
       "2"
      ]
     },
     "execution_count": 9,
     "metadata": {},
     "output_type": "execute_result"
    }
   ],
   "source": [
    "np.array([x_train]).ndim"
   ]
  },
  {
   "cell_type": "code",
   "execution_count": 15,
   "metadata": {},
   "outputs": [
    {
     "data": {
      "text/plain": [
       "1"
      ]
     },
     "execution_count": 15,
     "metadata": {},
     "output_type": "execute_result"
    }
   ],
   "source": [
    "y_train.ndim"
   ]
  },
  {
   "cell_type": "code",
   "execution_count": 16,
   "metadata": {},
   "outputs": [
    {
     "data": {
      "text/plain": [
       "1"
      ]
     },
     "execution_count": 16,
     "metadata": {},
     "output_type": "execute_result"
    }
   ],
   "source": [
    "x_test.ndim"
   ]
  },
  {
   "cell_type": "markdown",
   "metadata": {},
   "source": [
    "to train our model we use model.fit\n",
    "reshape to give command for multiple rows(-1) and 1 column(1)"
   ]
  },
  {
   "cell_type": "code",
   "execution_count": 10,
   "metadata": {},
   "outputs": [
    {
     "data": {
      "text/plain": [
       "LinearRegression()"
      ]
     },
     "execution_count": 10,
     "metadata": {},
     "output_type": "execute_result"
    }
   ],
   "source": [
    "model.fit(np.array([x_train]).reshape(-1,1), y_train)"
   ]
  },
  {
   "cell_type": "code",
   "execution_count": 11,
   "metadata": {},
   "outputs": [],
   "source": [
    "y_pred = model.predict(np.array([x_test]).reshape(-1,1))"
   ]
  },
  {
   "cell_type": "code",
   "execution_count": 19,
   "metadata": {},
   "outputs": [
    {
     "data": {
      "text/plain": [
       "array([ 621.65279019,  540.59684274,  487.23651448,  662.75050331,\n",
       "        458.81390574,  456.76411943,  610.66814436,  331.69991269,\n",
       "        667.04485356,  459.04697912,  590.59485756,  240.56325405,\n",
       "        663.53411349,  632.39655792,  415.87426341,  160.58843641,\n",
       "        413.10413702,  339.77514558,  551.07587173,  410.21581318,\n",
       "        508.78671884,  577.31283488,  434.85988237,  312.48531584,\n",
       "        454.50637068,  453.60758162,  517.52155619,  610.86567571,\n",
       "        442.55474676,  436.6642063 ,  411.32588448,  259.41500896,\n",
       "        729.0847694 ,  873.33122702,  526.9024777 ,  463.67303205,\n",
       "        245.60542584,  369.97192464,  477.77358948,  899.6767472 ,\n",
       "        682.31620035,  809.10308314,  354.2546895 ,  450.59110819,\n",
       "        486.54454414,  639.93277891,  604.62809821,  601.3473834 ,\n",
       "        368.46738561,  549.37205282,  493.77164448,  724.33171873,\n",
       "        576.8011006 ,  892.83657682,  600.07932855,  626.88006919,\n",
       "        748.64403257,  659.66820151,  565.2761373 ,  531.83800369,\n",
       "        230.13902079,  451.12142383,  486.40889746,  262.4613613 ,\n",
       "        476.71498483,  702.86046589,  511.14422947,  387.0672697 ,\n",
       "        669.94354575,  672.55543339,  452.76541021,  422.85795328,\n",
       "        238.80597528,  469.67646632,  307.26727797,  741.36336699,\n",
       "        693.47242904,  212.11917856,  455.51395313,  383.58331054,\n",
       "        305.02317263,  421.33147539,  592.23777472,  503.56555578,\n",
       "        521.36765145,  861.93576663,  718.8329081 ,  651.39627974,\n",
       "        704.91890049,  664.07861658,  452.61607816,  909.19066248,\n",
       "        523.40232222,  698.36748446,  798.21032914,  457.25453893,\n",
       "        593.22865965,  746.74601175,   67.2085594 ,  838.39513084,\n",
       "        462.35685133,  803.34032016,  570.24449526,  546.9658541 ,\n",
       "        313.12328074,  392.94683014,  573.30195781,  874.17349071,\n",
       "        672.35480917,  441.0907693 ,  468.52424892,  690.32487865,\n",
       "        759.56229746,  531.29367423,  269.02942733,  441.8412452 ,\n",
       "        576.44144718,  623.15258566,  450.51910843,  713.4248169 ,\n",
       "        357.83288637,  839.68953733,  231.23365715,  520.57704647,\n",
       "        796.3542022 ,  198.4640986 ,  310.74986669,  361.86518012,\n",
       "        256.37809899,  170.94907317,  590.57811657,  605.56440542,\n",
       "        394.39034966,  443.48134569,  493.73185346,  744.95780899,\n",
       "        352.18034354,  623.59318963,  724.31074502,  750.52937322,\n",
       "        621.68205101,  660.78332274,  805.15556588,  565.33480365,\n",
       "        585.63799774,  372.03524989,  897.63707874,  317.95103287,\n",
       "        863.00035018,  601.56585227,  566.73036259,  448.23202993,\n",
       "        480.1643577 ,  662.68505154,  652.94917372,  442.01480376,\n",
       "        738.57660837,  583.93893952,  673.70977893,  442.50916032,\n",
       "        471.26276456,  710.64801728,  309.66939554,  504.99003018,\n",
       "        527.64677665,  535.94873148,  538.79467114,  479.3381167 ,\n",
       "        623.16296793,  285.59483526,  512.51323401,  530.89971692,\n",
       "        470.52193335,  573.58826779,  551.37378542,  763.83446135,\n",
       "        596.91108663,  369.64489594,  745.32344731,  304.5494575 ,\n",
       "        733.70098708,  183.18483851,  315.44788404,  448.27112128,\n",
       "        428.91323274,  768.75163269,  644.29928949,  520.97548721,\n",
       "        523.97029004,  635.42058174,  671.66890081,  580.46304266,\n",
       "        284.64325193,  863.83247696,  496.46550093,  208.17632291,\n",
       "        200.9452012 ,  512.00248523,  201.75815878,  547.43927806,\n",
       "        940.50941457,  697.74771941,  661.39646338,  586.41622849,\n",
       "        234.50672554,  892.26377423,  475.56496536,  348.37935151,\n",
       "        559.8009674 ,  483.29060103,  683.62647473,  859.83816082,\n",
       "        641.2849093 ,  460.85571904,  570.51161412,  495.28270858,\n",
       "        396.97778085,  571.30245268,  714.90120136,  485.44456243,\n",
       "        659.33722377,  493.68695641,  697.31573824,  360.71748148,\n",
       "        136.99592611,  608.31788545,  381.60319223,  515.223105  ,\n",
       "        586.70257295,  676.39755327,  484.66064438,  150.47145678,\n",
       "        593.34072939,  468.66867962,  255.73302692,  450.66481644,\n",
       "        351.67388679,  731.50188028,  645.75246805,  203.34455443,\n",
       "        479.78612548,  452.06414179,  416.66691347,  466.41168556,\n",
       "        541.99571977,  709.25110567,  510.55375734,  312.68894171,\n",
       "        457.42621942,  474.84128043,  479.71769988,  671.1407163 ,\n",
       "        577.65917695,  391.9732527 ,  621.35597826,  361.69975837,\n",
       "        522.63560717,  501.93609448,  474.12369602,  720.08742894,\n",
       "        337.99232868,  575.69805472,  689.19268607,  535.33659175,\n",
       "        657.50143061,  605.65226514,  191.34994056,  327.02928343,\n",
       "        943.88911322,  682.56225022,  322.51868386,  412.20169545,\n",
       "        829.23239089,  635.96257752,  805.44652501,  537.44217572,\n",
       "        250.91357052,  496.0511561 ,  171.72243748,  466.30927315,\n",
       "        764.62403245,  693.88231227,  695.66111397,  292.5818428 ,\n",
       "        841.17811726,  800.2889804 ,  332.42158253,  484.63006215,\n",
       "        474.00807267,  294.54309134,  530.86207887,  562.30538798,\n",
       "        131.64471515,  637.18519536,  218.28236151,  498.66487835,\n",
       "        449.05185098,  655.60784675,  494.50028257,  631.26016195,\n",
       "        510.97183111,  636.62627233,  309.01322415,  510.45679951,\n",
       "        515.11420006,  956.53876602,  547.55255382, 1009.73618412,\n",
       "        559.61450214,  667.94410315,  293.9980179 ,  686.01900991,\n",
       "        397.54402197,  665.04206417,  354.16077486,  792.65552988,\n",
       "        547.81159946,  380.03164623,  607.05304187,  296.67197691,\n",
       "        477.26414734,  627.10249974,  385.4903115 ,  400.75168367,\n",
       "        590.51681381,  331.08310819,  403.92052935,  409.29281196,\n",
       "        630.37681515,  673.85907715,  258.25751347,  679.79961941,\n",
       "        469.23884045,  652.16401111,  628.33745371,  498.98434124,\n",
       "        775.54849719,  589.68472878,  570.69506251,  444.57561739,\n",
       "        559.35647047,  643.3521776 ,  544.00214776,  610.16569488,\n",
       "        494.78515767,  159.92675871,  381.9248173 ,  530.56959215,\n",
       "        506.35209815,  655.72324915,  635.69005675,  395.27680708,\n",
       "        233.75847825,  424.32382915,  588.67809971,  252.93079086,\n",
       "        182.29900137,  291.54894151,  682.25537952,  700.63525001,\n",
       "        233.74884184,  448.30262798,  567.60405954,  265.63885955,\n",
       "        722.41606263,  420.00594265,  444.04827129,  686.86118646,\n",
       "         46.29394133,  308.90441063,  606.97386233,  592.17226836,\n",
       "        510.81831879,  378.59934139,  740.17023562,  677.10852269,\n",
       "        365.23555179,  784.33714129,  788.74493858,  912.83507267,\n",
       "        591.1363729 ,  439.09618116,  446.83918876,  176.76323001,\n",
       "        555.02218832,  368.06463336,  603.06060101,  307.70116333,\n",
       "        622.72369607,  507.47145639,  502.80268637,  641.0696474 ,\n",
       "        614.30135185,  639.45448358,  725.79732891,  690.41266515,\n",
       "        422.55527505,  589.54924225,  639.80519283,  365.97490594])"
      ]
     },
     "execution_count": 19,
     "metadata": {},
     "output_type": "execute_result"
    }
   ],
   "source": [
    "y_pred"
   ]
  },
  {
   "cell_type": "code",
   "execution_count": 20,
   "metadata": {},
   "outputs": [
    {
     "data": {
      "text/plain": [
       "283    662.558990\n",
       "258    706.724604\n",
       "55     623.598861\n",
       "139    279.866148\n",
       "392    276.373374\n",
       "          ...    \n",
       "324    315.646581\n",
       "140    841.171427\n",
       "80     372.990606\n",
       "462    297.025414\n",
       "147    446.946651\n",
       "Name: Revenue, Length: 100, dtype: float64"
      ]
     },
     "execution_count": 20,
     "metadata": {},
     "output_type": "execute_result"
    }
   ],
   "source": [
    "y_test"
   ]
  },
  {
   "cell_type": "code",
   "execution_count": 12,
   "metadata": {},
   "outputs": [
    {
     "data": {
      "text/plain": [
       "0.9835672694274693"
      ]
     },
     "execution_count": 12,
     "metadata": {},
     "output_type": "execute_result"
    }
   ],
   "source": [
    "r2_score(y_test, y_pred)"
   ]
  },
  {
   "cell_type": "code",
   "execution_count": 13,
   "metadata": {},
   "outputs": [
    {
     "data": {
      "text/plain": [
       "array([666.7851727])"
      ]
     },
     "execution_count": 13,
     "metadata": {},
     "output_type": "execute_result"
    }
   ],
   "source": [
    "a=int(input())\n",
    "model.predict([[a]])"
   ]
  },
  {
   "cell_type": "code",
   "execution_count": 15,
   "metadata": {},
   "outputs": [],
   "source": [
    "with open(\"model.pkl\",'wb') as files:\n",
    "    pickle.dump(model,files)"
   ]
  }
 ],
 "metadata": {
  "interpreter": {
   "hash": "559cdf1c4f539a5b295e2a7eb82c07a3a8ac26b2c5219a30cd264ea1351d0285"
  },
  "kernelspec": {
   "display_name": "Python 3.10.0 64-bit",
   "language": "python",
   "name": "python3"
  },
  "language_info": {
   "codemirror_mode": {
    "name": "ipython",
    "version": 3
   },
   "file_extension": ".py",
   "mimetype": "text/x-python",
   "name": "python",
   "nbconvert_exporter": "python",
   "pygments_lexer": "ipython3",
   "version": "3.10.0"
  },
  "orig_nbformat": 4
 },
 "nbformat": 4,
 "nbformat_minor": 2
}
